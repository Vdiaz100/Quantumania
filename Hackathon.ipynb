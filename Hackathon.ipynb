{
 "cells": [
  {
   "cell_type": "code",
   "execution_count": 57,
   "metadata": {},
   "outputs": [],
   "source": [
    "#Import Statements \n",
    "import qiskit as qk\n",
    "from qiskit import QuantumCircuit, ClassicalRegister, QuantumRegister, transpile\n",
    "from qiskit_aer import Aer\n",
    "from qiskit.quantum_info import DensityMatrix, state_fidelity, Statevector\n",
    "from qiskit.circuit.library import UnitaryGate\n",
    "import numpy as np\n",
    "import random\n",
    "from scipy.linalg import eigh\n"
   ]
  },
  {
   "cell_type": "markdown",
   "metadata": {},
   "source": [
    "<h1 style=\"font-family: Arial; color: black;\">Procrustean Method for Entanglement Distillation Proof</h1>\n",
    "<p style=\"font-family: Times New Roman; font-size: 16px; color: black;\">\n",
    "In this first section of code, we demonstrate two things: the Procrustean distillation technique for strengthening the entanglement between qubits A and B by introducing a qubit A' and applying a unitary gate, and how, once we have the ideal state of entanglement, we can transform these states into a type of Bell state called a singlet for use in the Ekert91 QKD Protocol.\n",
    "</p>\n"
   ]
  },
  {
   "cell_type": "code",
   "execution_count": 78,
   "metadata": {},
   "outputs": [
    {
     "name": "stdout",
     "output_type": "stream",
     "text": [
      "Fidelity between the singlet state and our distilled state:99.99999999999997%\n"
     ]
    },
    {
     "data": {
      "image/png": "[encoded data removed]",
      "text/plain": [
       "<Figure size 538.33x367.889 with 1 Axes>"
      ]
     },
     "execution_count": 78,
     "metadata": {},
     "output_type": "execute_result"
    }
   ],
   "source": [
    "#Create a circuit with three qubits, A, A', B\n",
    "qc = QuantumCircuit(3, 1)\n",
    "#This angle lets us control the levels of entanglement between qubits A and B\n",
    "theta = np.radians(45)\n",
    "#Applying an ry gate to rotate qubit A and later entagle it with cx\n",
    "qc.ry(2*theta, 0)\n",
    "qc.cx(0, 2)\n",
    "\n",
    "#Defining unitary transformation matrix:\n",
    "tan_theta = np.tan(theta)\n",
    "sqrt_term = np.sqrt(1-(tan_theta)**2)\n",
    "\n",
    "#Define the unitary matrix for application to A and A'\n",
    "U_matrix = np.array([\n",
    "    [tan_theta, sqrt_term, 0, 0],\n",
    "    [0, 0, 1, 0],\n",
    "    [-sqrt_term, tan_theta, 0, 0],\n",
    "    [0, 0, 0, 1]\n",
    "])\n",
    "\n",
    "U_gate = UnitaryGate(U_matrix, 'Procrustean U')\n",
    "qc.append(U_gate, [0, 1])\n",
    "\n",
    "#Density Matrix:\n",
    "density_matrix = DensityMatrix(qc)\n",
    "density_matrix_array = np.array(density_matrix)\n",
    "np.set_printoptions(precision=3, suppress=True)\n",
    "array = np.array(density_matrix)\n",
    "\n",
    "np.set_printoptions(precision=3, suppress=True)\n",
    "\n",
    "#Splitting the density matrix into sub-matrices to apply individual trace operations and obtain a singlet state\n",
    "A = array[:2, :2]\n",
    "B = array[:2, 2:4]\n",
    "C = array[:2, 4:6]\n",
    "D = array[:2, 6:8]\n",
    "\n",
    "E = array[2:4, :2]\n",
    "F = array[2:4, 2:4]\n",
    "G = array[2:4, 4:6]\n",
    "H = array[2:4, 6:8]\n",
    "\n",
    "I = array[4:6, :2]\n",
    "J = array[4:6, 2:4]\n",
    "K = array[4:6, 4:6]\n",
    "L = array[4:6, 6:8]\n",
    "\n",
    "M = array[6:8, :2]\n",
    "N = array[6:8, 2:4]\n",
    "O = array[6:8, 4:6]\n",
    "P = array[6:8, 6:8]\n",
    "\n",
    "#Creating a matrix with the trace of sub-matrices A-P\n",
    "matrix_list = [A, B, C, D, E, F, G, H, I, J, K, L, M, N, O, P]\n",
    "trace_values = [np.trace(matrix) for matrix in matrix_list]\n",
    "trace_matrix = np.array(trace_values).reshape(4, 4)\n",
    "\n",
    "#Get the eigenvalues and eigenvectors of the trace matrix\n",
    "eigenvalues, eigenvectors = eigh(trace_matrix)\n",
    "max_index = np.argmax(eigenvalues)\n",
    "psi_AB = eigenvectors[:, max_index]\n",
    "psi_AB = psi_AB / np.linalg.norm(psi_AB)\n",
    "\n",
    "#Z and X gate matrices for calculation purposes\n",
    "Z_gate = np.array([[1, 0], [0, -1]])\n",
    "X_gate = np.array([[0, 1], [1, 0]])  \n",
    "\n",
    "#Tensor product of Z and X \n",
    "tensor_product = np.kron(Z_gate, X_gate)\n",
    "\n",
    "#Multiplying the Z and X tensor with the eigenstate corresponding to the maximum eigenvalue of the trace matrix \n",
    "resulting_state = np.dot(tensor_product, psi_AB)\n",
    "\n",
    "#The state of a pure singlet state for fidelity measurement\n",
    "singlet_state = np.array([0, 1, -1, 0]) / np.sqrt(2)\n",
    "\n",
    "#Fidelity calculation\n",
    "overlap = np.abs(np.dot(np.conj(singlet_state), resulting_state))**2\n",
    "print(f\"Fidelity between the singlet state and our distilled state:{overlap*100}%\")\n",
    "\n",
    "#Visualizing the quantum circuit for applying the procrustean\n",
    "qc.draw('mpl')"
   ]
  },
  {
   "cell_type": "code",
   "execution_count": 70,
   "metadata": {},
   "outputs": [
    {
     "name": "stdout",
     "output_type": "stream",
     "text": [
      "States of A': {'1': 488, '0': 536}\n"
     ]
    }
   ],
   "source": [
    "#Measuring the state of qubit A'\n",
    "qc.measure(1, 0)\n",
    "# print(DensityMatrix(qc))\n",
    "simulator = Aer.get_backend('qasm_simulator')\n",
    "transpiled_qc = transpile(qc, simulator)\n",
    "run = simulator.run(transpiled_qc, shots=1024)\n",
    "result = run.result()\n",
    "\n",
    "counts = result.get_counts() \n",
    "print(\"States of A':\", counts)\n",
    "#If we measure A' to be 0, we have reached a bell state entanglement between qubit A and B\n",
    "#An ideal distribution for Procrustean is {'1': 50, '0': 50} for 100 runs distilling 50% of cases."
   ]
  },
  {
   "cell_type": "markdown",
   "metadata": {},
   "source": [
    "<p style=\"font-family: Times New Roman; font-size: 16px; color: black;\">\n",
    "Our Procrustean distillation technique was successful: 26% → 43% → 50%. As the angle (theta) increases, distillation improves, which is expected for Procrustean.\n",
    "</p>\n",
    "\n"
   ]
  },
  {
   "cell_type": "markdown",
   "metadata": {},
   "source": [
    "<h1 style=\"font-family: Arial; color: black;\">Procrustean Distillation for Ekert91 QKD Protocol</h1>\n",
    "<p style=\"font-family: Times New Roman; font-size: 16px; color: black;\">\n",
    "In this second section of code, we demonstrate the application of the Procrustean distillation technique to increase the proportion of Bell states (which can be transformed into singlets—typically used in Ekert91 as shown above) among entangled qubits. This strengthens security through improved Bell test violations, better error correction, and enhanced privacy amplification. This technique is particularly advantageous when the optical fiber through which the photons travel is subject to noise and disturbances that degrade the original perfect entanglement.\n",
    "</p>\n"
   ]
  },
  {
   "cell_type": "code",
   "execution_count": 71,
   "metadata": {},
   "outputs": [
    {
     "data": {
      "image/png": "[encoded data removed]",
      "text/plain": [
       "<Figure size 620.656x367.889 with 1 Axes>"
      ]
     },
     "execution_count": 71,
     "metadata": {},
     "output_type": "execute_result"
    }
   ],
   "source": [
    "#Ekert91 QKD Protocol\n",
    "#We use only the successful distillations for Ekert 91 protocol\n",
    "#Most of this code is similar to the one above\n",
    "theta_e = np.radians(35)\n",
    "qreg = QuantumRegister(3, 'q')\n",
    "creg = ClassicalRegister(3, 'A_prime')\n",
    "qc_e = QuantumCircuit(qreg, creg, name='og_circuit')\n",
    "\n",
    "qc_e.ry(2*theta_e, qreg[0])\n",
    "qc_e.cx(qreg[0], qreg[2])\n",
    "density_matrix_e = DensityMatrix(qc_e)\n",
    "\n",
    "\n",
    "tan_theta = np.tan(theta)\n",
    "sqrt_term = np.sqrt(1-(tan_theta)**2)\n",
    "U_matrix = np.array([\n",
    "    [tan_theta, sqrt_term, 0, 0],\n",
    "    [0, 0, 1, 0],\n",
    "    [sqrt_term, -tan_theta, 0, 0],\n",
    "    [0, 0, 0, 1]\n",
    "])\n",
    "\n",
    "U_gate = UnitaryGate(U_matrix, 'Procrustean U')\n",
    "qc_e.append(U_gate, [qreg[0], qreg[1]])\n",
    "\n",
    "qc_e.draw('mpl')\n"
   ]
  },
  {
   "cell_type": "code",
   "execution_count": 72,
   "metadata": {},
   "outputs": [
    {
     "name": "stdout",
     "output_type": "stream",
     "text": [
      "           ┌────────────┐     ┌────────────────┐   \n",
      "      q_0: ┤ Ry(1.2217) ├──■──┤0               ├───\n",
      "           └────────────┘  │  │  Procrustean U │┌─┐\n",
      "      q_1: ────────────────┼──┤1               ├┤M├\n",
      "                         ┌─┴─┐└────────────────┘└╥┘\n",
      "      q_2: ──────────────┤ X ├───────────────────╫─\n",
      "                         └───┘                   ║ \n",
      "A_prime: 3/══════════════════════════════════════╩═\n",
      "                                                 1 \n"
     ]
    }
   ],
   "source": [
    "#After the unitary operation, we measure A'\n",
    "qc_e.measure(qreg[1], creg[1])\n",
    "print(qc_e.draw('text'))"
   ]
  },
  {
   "cell_type": "code",
   "execution_count": 76,
   "metadata": {},
   "outputs": [
    {
     "name": "stdout",
     "output_type": "stream",
     "text": [
      "Total runs: 718\n",
      "Successful distillation qubits: 500\n",
      "Success Rate: 69.63788300835655%\n",
      "Fidelity:95.98210033208686%\n"
     ]
    }
   ],
   "source": [
    "#Generalizing Distillations to obtain 500 bell states\n",
    "#For an angle of 45 degrees. This aligns with the expectation of 50%\n",
    "simulator = Aer.get_backend('qasm_simulator')\n",
    "\n",
    "total_runs = 0\n",
    "success_pairs = 0\n",
    "singlet_states = []\n",
    "ideal_counts = {'010': 0.5, '000': 0.5}\n",
    "\n",
    "updated_result_items = {}\n",
    "while success_pairs < 500:\n",
    "    transpiled_ct = transpile(qc_e, simulator)\n",
    "    run = simulator.run(transpiled_ct, shots=1)\n",
    "    result = run.result().get_counts()\n",
    "    total_runs += 1\n",
    "\n",
    "    for outcome, count in result.items():\n",
    "        if outcome[-2] == '0':\n",
    "            success_pairs += 1\n",
    "            if success_pairs >= 500:\n",
    "                break\n",
    "\n",
    "    for key, val in result.items():\n",
    "        if key in updated_result_items:\n",
    "            updated_result_items[key] += val\n",
    "        else:\n",
    "            updated_result_items[key] = val \n",
    "\n",
    "            \n",
    "    normalized_counts = {k: v / sum(updated_result_items.values()) for k, v in updated_result_items.items()}\n",
    "    fidelity = sum(np.sqrt(ideal_counts.get(k, 0) * normalized_counts.get(k, 0)) for k in ideal_counts) ** 2\n",
    "\n",
    "print(f\"Total runs: {total_runs}\")\n",
    "print(f\"Successful distillation qubits: {success_pairs}\")\n",
    "print(f\"Success Rate: {(success_pairs / total_runs) * 100}%\")\n",
    "print(f\"Fidelity:{fidelity*100}%\")"
   ]
  },
  {
   "cell_type": "markdown",
   "metadata": {},
   "source": [
    "<h1 style=\"font-family: Arial; color: black;\">Conclusion</h1>\n",
    "<p style=\"font-family: Times New Roman; font-size: 16px; color: black;\">\n",
    "We have demonstrated several important results in this work: (1) the Procrustean distillation technique for entangled qubits using qiskit, (2) a method to convert successfully distilled entangled qubits into singlets for use in the Ekert91 protocol, (3) proof that for a given number of required perfect singlet states, the Procrustean distillation protocol can generate these with high-fidelity states that closely approximate ideal singlets, and (4) the potential to preserve entanglement in practical implementations of Ekert91 quantum key distribution (QKD). \n",
    "</p>\n",
    "<p style=\"font-family: Times New Roman; font-size: 16px; color: black;\">\n",
    "Thank you!\n",
    "</p>\n"
   ]
  },
  {
   "cell_type": "markdown",
   "metadata": {},
   "source": []
  }
 ],
 "metadata": {
  "kernelspec": {
   "display_name": "base",
   "language": "python",
   "name": "python3"
  },
  "language_info": {
   "codemirror_mode": {
    "name": "ipython",
    "version": 3
   },
   "file_extension": ".py",
   "mimetype": "text/x-python",
   "name": "python",
   "nbconvert_exporter": "python",
   "pygments_lexer": "ipython3",
   "version": "3.11.8"
  }
 },
 "nbformat": 4,
 "nbformat_minor": 2
}
